{
  "metadata": {
    "kernelspec": {
      "language": "python",
      "display_name": "Python 3",
      "name": "python3"
    },
    "language_info": {
      "name": "python",
      "version": "3.7.12",
      "mimetype": "text/x-python",
      "codemirror_mode": {
        "name": "ipython",
        "version": 3
      },
      "pygments_lexer": "ipython3",
      "nbconvert_exporter": "python",
      "file_extension": ".py"
    },
    "colab": {
      "provenance": []
    },
    "accelerator": "GPU"
  },
  "nbformat_minor": 0,
  "nbformat": 4,
  "cells": [
    {
      "cell_type": "code",
      "source": [
        "from google.colab import drive\n",
        "drive.mount('/content/gdrive')"
      ],
      "metadata": {
        "colab": {
          "base_uri": "https://localhost:8080/"
        },
        "id": "IJGpoNCySapu",
        "outputId": "6bfd6dce-42a4-4c5b-c79b-abea2bc90885"
      },
      "execution_count": 1,
      "outputs": [
        {
          "output_type": "stream",
          "name": "stdout",
          "text": [
            "Mounted at /content/gdrive\n"
          ]
        }
      ]
    },
    {
      "cell_type": "code",
      "source": [
        "%cd '/content/gdrive/MyDrive/Example'\n",
        "! ls"
      ],
      "metadata": {
        "id": "Dj45h3_FSd4l",
        "colab": {
          "base_uri": "https://localhost:8080/"
        },
        "outputId": "b1f4c7a2-d54f-431f-b2d8-f49f7e7b6fe1"
      },
      "execution_count": 2,
      "outputs": [
        {
          "output_type": "stream",
          "name": "stdout",
          "text": [
            "/content/gdrive/MyDrive/Example\n",
            "10_Fine_tuning_VGG16.ipynb     6_Cifar10_VGG16.ipynb\n",
            "1_MLP_Fashion_MNIST.ipynb      7_Custom_dataset_VGG16.ipynb\n",
            "2_MLP_Cifar10.ipynb\t       8_Chest_Xray.ipynb\n",
            "3_Classification_Models.ipynb  9_Feature_extractor_VGG16.ipynb\n",
            "4_LeNet.ipynb\t\t       chest_xray.zip\n",
            "5_VGG16.ipynb\t\t       Dataset\n"
          ]
        }
      ]
    },
    {
      "cell_type": "code",
      "source": [
        "import numpy as np \n",
        "import pandas as pd \n",
        "import os\n",
        "import matplotlib.pyplot as plt \n",
        "import seaborn as sns\n",
        "import tensorflow as tf\n",
        "from tensorflow.keras.preprocessing.image import ImageDataGenerator, array_to_img, img_to_array, load_img\n",
        "from tensorflow.keras.models import Sequential, Model\n",
        "from tensorflow.keras.layers import Conv2D, MaxPooling2D, GlobalAveragePooling2D, Layer\n",
        "from tensorflow.keras.layers import Activation, Dropout, Flatten, Dense\n",
        "from tensorflow.keras.applications import VGG16\n",
        "from tensorflow.keras.optimizers import Adam, SGD\n",
        "from tensorflow.keras.callbacks import ModelCheckpoint, EarlyStopping, ReduceLROnPlateau"
      ],
      "metadata": {
        "_cell_guid": "b1076dfc-b9ad-4769-8c92-a6c4dae69d19",
        "_uuid": "8f2839f25d086af736a60e9eeb907d3b93b6e0e5",
        "execution": {
          "iopub.status.busy": "2022-09-27T13:23:07.093296Z",
          "iopub.execute_input": "2022-09-27T13:23:07.093984Z",
          "iopub.status.idle": "2022-09-27T13:23:13.431668Z",
          "shell.execute_reply.started": "2022-09-27T13:23:07.093886Z",
          "shell.execute_reply": "2022-09-27T13:23:13.430694Z"
        },
        "trusted": true,
        "id": "VMFwpa93SSSg"
      },
      "execution_count": 3,
      "outputs": []
    },
    {
      "cell_type": "code",
      "source": [
        "train_path = '/content/gdrive/MyDrive/Example/Dataset/train'\n",
        "valid_path = '/content/gdrive/MyDrive/Example/Dataset/valid'\n",
        "test_path = '/content/gdrive/MyDrive/Example/Dataset/test'"
      ],
      "metadata": {
        "id": "dLZysCx00d9F"
      },
      "execution_count": 4,
      "outputs": []
    },
    {
      "cell_type": "markdown",
      "source": [
        "## Data Generator"
      ],
      "metadata": {
        "id": "SUig4kw5SSSj"
      }
    },
    {
      "cell_type": "code",
      "source": [
        "batch_size = 32\n",
        "img_size = 224\n",
        "\n",
        "# Add our data-augmentation parameters to ImageDataGenerator\n",
        "train_datagen = ImageDataGenerator(rescale = 1./255,\n",
        "                                   shear_range = 0.2,\n",
        "                                   zoom_range = 0.2,\n",
        "                                   horizontal_flip = True)\n",
        "valid_datagen = ImageDataGenerator(rescale = 1./255)\n",
        "test_datagen = ImageDataGenerator(rescale = 1./255)\n",
        "\n",
        "# Flow training images in batches of 32 using train_datagen generator\n",
        "training_set = train_datagen.flow_from_directory(train_path,\n",
        "                                                 target_size = (224, 224),\n",
        "                                                 batch_size = 32,\n",
        "                                                 class_mode = 'categorical')\n",
        "\n",
        "valid_set = valid_datagen.flow_from_directory(valid_path,\n",
        "                                              target_size = (224, 224),\n",
        "                                              batch_size = 32,\n",
        "                                              class_mode = 'categorical')\n",
        "\n",
        "test_set = test_datagen.flow_from_directory(test_path,\n",
        "                                            shuffle = False,\n",
        "                                            target_size = (224, 224),\n",
        "                                            batch_size = 32,\n",
        "                                            class_mode = 'categorical')"
      ],
      "metadata": {
        "execution": {
          "iopub.status.busy": "2022-09-27T13:24:05.104216Z",
          "iopub.execute_input": "2022-09-27T13:24:05.104910Z",
          "iopub.status.idle": "2022-09-27T13:24:35.773296Z",
          "shell.execute_reply.started": "2022-09-27T13:24:05.104872Z",
          "shell.execute_reply": "2022-09-27T13:24:35.772192Z"
        },
        "trusted": true,
        "colab": {
          "base_uri": "https://localhost:8080/"
        },
        "id": "9ab0XUldSSSj",
        "outputId": "1fb655e7-724a-4c20-a0ca-aa8473fee4f3"
      },
      "execution_count": 5,
      "outputs": [
        {
          "output_type": "stream",
          "name": "stdout",
          "text": [
            "Found 240 images belonging to 3 classes.\n",
            "Found 30 images belonging to 3 classes.\n",
            "Found 30 images belonging to 3 classes.\n"
          ]
        }
      ]
    },
    {
      "cell_type": "markdown",
      "source": [
        "### Model Definition and Hyperparameter Settings"
      ],
      "metadata": {
        "id": "3lFUIzFxSSSk"
      }
    },
    {
      "cell_type": "code",
      "source": [
        "vgg16 = VGG16(input_shape = (img_size,img_size,3), weights='imagenet', include_top=False)\n",
        "\n",
        "vgg16.trainable = True\n",
        "\n",
        "# Let's take a look to see how many layers are in the base model\n",
        "print(\"Number of layers in the base model: \", len(vgg16.layers))\n",
        "\n",
        "# Fine-tune from this layer onwards\n",
        "fine_tune_at = 15\n",
        "\n",
        "# Freeze all the layers before the `fine_tune_at` layer\n",
        "for layer in vgg16.layers[:fine_tune_at]:\n",
        "  layer.trainable = False\n",
        "\n",
        "# our layers - you can add more if you want\n",
        "x = Flatten()(vgg16.output)\n",
        "x = Dense(128, activation=\"relu\")(x)\n",
        "x = Dropout(0.2)(x)\n",
        "\n",
        "prediction = Dense(3, activation='softmax')(x)\n",
        "\n",
        "# create a model object\n",
        "model = Model(inputs=vgg16.input, outputs=prediction)\n",
        "\n",
        "# tell the model what cost and optimization method to use\n",
        "model.compile(loss='categorical_crossentropy',\n",
        "              optimizer='adam',\n",
        "              metrics=['accuracy'])"
      ],
      "metadata": {
        "execution": {
          "iopub.status.busy": "2022-09-27T13:24:56.311572Z",
          "iopub.execute_input": "2022-09-27T13:24:56.312057Z",
          "iopub.status.idle": "2022-09-27T13:25:00.493100Z",
          "shell.execute_reply.started": "2022-09-27T13:24:56.312015Z",
          "shell.execute_reply": "2022-09-27T13:25:00.492123Z"
        },
        "trusted": true,
        "colab": {
          "base_uri": "https://localhost:8080/"
        },
        "id": "Wz0c1KZMSSSl",
        "outputId": "9cb9e327-a1a3-4182-94da-671d104c1236"
      },
      "execution_count": 6,
      "outputs": [
        {
          "output_type": "stream",
          "name": "stdout",
          "text": [
            "Downloading data from https://storage.googleapis.com/tensorflow/keras-applications/vgg16/vgg16_weights_tf_dim_ordering_tf_kernels_notop.h5\n",
            "58889256/58889256 [==============================] - 0s 0us/step\n",
            "Number of layers in the base model:  19\n"
          ]
        }
      ]
    },
    {
      "cell_type": "markdown",
      "source": [
        "### Model Checkpoints\n",
        "- Reduce the learning rate if the validation loss does not decrease after 5 successive epochs\n",
        "- Stop the training if the validation loss does not decrease after 10 successive epochs\n",
        "- Save the best model if it has a better validation loss than before"
      ],
      "metadata": {
        "id": "EgZ96sejSSSl"
      }
    },
    {
      "cell_type": "code",
      "source": [
        "model_name = \"/content/gdrive/MyDrive/Example/model.h5\"\n",
        "\n",
        "checkpoint = ModelCheckpoint(model_name,\n",
        "                             monitor=\"val_loss\",\n",
        "                             mode=\"min\",\n",
        "                             save_best_only = True,\n",
        "                             verbose=1)\n",
        "\n",
        "earlystopping = EarlyStopping(monitor='val_loss',\n",
        "                              min_delta = 0, \n",
        "                              patience = 10, \n",
        "                              verbose = 1, \n",
        "                              restore_best_weights=True)\n",
        "\n",
        "learning_rate_reduction = ReduceLROnPlateau(monitor='val_loss', \n",
        "                                            patience=5, \n",
        "                                            verbose=1, \n",
        "                                            factor=0.2, \n",
        "                                            min_lr=0.0000001)"
      ],
      "metadata": {
        "execution": {
          "iopub.status.busy": "2022-09-27T13:25:10.133462Z",
          "iopub.execute_input": "2022-09-27T13:25:10.133839Z",
          "iopub.status.idle": "2022-09-27T13:25:10.139843Z",
          "shell.execute_reply.started": "2022-09-27T13:25:10.133806Z",
          "shell.execute_reply": "2022-09-27T13:25:10.138639Z"
        },
        "trusted": true,
        "id": "fIKVAHcJSSSl"
      },
      "execution_count": 7,
      "outputs": []
    },
    {
      "cell_type": "markdown",
      "source": [
        "### Model Training"
      ],
      "metadata": {
        "id": "B8y32-r7SSSm"
      }
    },
    {
      "cell_type": "code",
      "source": [
        "history = model.fit(training_set,\n",
        "                    epochs=50,\n",
        "                    validation_data=valid_set,\n",
        "                    callbacks=[checkpoint,earlystopping,learning_rate_reduction])"
      ],
      "metadata": {
        "execution": {
          "iopub.status.busy": "2022-09-27T13:25:12.934490Z",
          "iopub.execute_input": "2022-09-27T13:25:12.935039Z",
          "iopub.status.idle": "2022-09-27T15:03:15.093272Z",
          "shell.execute_reply.started": "2022-09-27T13:25:12.934996Z",
          "shell.execute_reply": "2022-09-27T15:03:15.092197Z"
        },
        "trusted": true,
        "colab": {
          "base_uri": "https://localhost:8080/"
        },
        "id": "AcaoPr7nSSSm",
        "outputId": "05bdff53-438c-4280-e8a0-23ae440fd47e"
      },
      "execution_count": 8,
      "outputs": [
        {
          "output_type": "stream",
          "name": "stdout",
          "text": [
            "Epoch 1/50\n",
            "8/8 [==============================] - ETA: 0s - loss: 2.6028 - accuracy: 0.3583 \n",
            "Epoch 1: val_loss improved from inf to 1.07793, saving model to /content/gdrive/MyDrive/Example/model.h5\n",
            "8/8 [==============================] - 154s 17s/step - loss: 2.6028 - accuracy: 0.3583 - val_loss: 1.0779 - val_accuracy: 0.3667 - lr: 0.0010\n",
            "Epoch 2/50\n",
            "8/8 [==============================] - ETA: 0s - loss: 1.0982 - accuracy: 0.3833\n",
            "Epoch 2: val_loss improved from 1.07793 to 0.68507, saving model to /content/gdrive/MyDrive/Example/model.h5\n",
            "8/8 [==============================] - 4s 483ms/step - loss: 1.0982 - accuracy: 0.3833 - val_loss: 0.6851 - val_accuracy: 0.6333 - lr: 0.0010\n",
            "Epoch 3/50\n",
            "8/8 [==============================] - ETA: 0s - loss: 0.8220 - accuracy: 0.6417\n",
            "Epoch 3: val_loss improved from 0.68507 to 0.29762, saving model to /content/gdrive/MyDrive/Example/model.h5\n",
            "8/8 [==============================] - 4s 469ms/step - loss: 0.8220 - accuracy: 0.6417 - val_loss: 0.2976 - val_accuracy: 0.8667 - lr: 0.0010\n",
            "Epoch 4/50\n",
            "8/8 [==============================] - ETA: 0s - loss: 0.6537 - accuracy: 0.7500\n",
            "Epoch 4: val_loss did not improve from 0.29762\n",
            "8/8 [==============================] - 3s 439ms/step - loss: 0.6537 - accuracy: 0.7500 - val_loss: 0.3975 - val_accuracy: 0.9333 - lr: 0.0010\n",
            "Epoch 5/50\n",
            "8/8 [==============================] - ETA: 0s - loss: 0.6437 - accuracy: 0.7625\n",
            "Epoch 5: val_loss did not improve from 0.29762\n",
            "8/8 [==============================] - 3s 402ms/step - loss: 0.6437 - accuracy: 0.7625 - val_loss: 0.3907 - val_accuracy: 0.8333 - lr: 0.0010\n",
            "Epoch 6/50\n",
            "8/8 [==============================] - ETA: 0s - loss: 0.4416 - accuracy: 0.8333\n",
            "Epoch 6: val_loss did not improve from 0.29762\n",
            "8/8 [==============================] - 4s 436ms/step - loss: 0.4416 - accuracy: 0.8333 - val_loss: 0.3341 - val_accuracy: 0.9000 - lr: 0.0010\n",
            "Epoch 7/50\n",
            "8/8 [==============================] - ETA: 0s - loss: 0.5370 - accuracy: 0.8292\n",
            "Epoch 7: val_loss improved from 0.29762 to 0.14339, saving model to /content/gdrive/MyDrive/Example/model.h5\n",
            "8/8 [==============================] - 5s 650ms/step - loss: 0.5370 - accuracy: 0.8292 - val_loss: 0.1434 - val_accuracy: 0.9333 - lr: 0.0010\n",
            "Epoch 8/50\n",
            "8/8 [==============================] - ETA: 0s - loss: 0.3129 - accuracy: 0.8750\n",
            "Epoch 8: val_loss did not improve from 0.14339\n",
            "8/8 [==============================] - 3s 389ms/step - loss: 0.3129 - accuracy: 0.8750 - val_loss: 0.1956 - val_accuracy: 0.9000 - lr: 0.0010\n",
            "Epoch 9/50\n",
            "8/8 [==============================] - ETA: 0s - loss: 0.2961 - accuracy: 0.9125\n",
            "Epoch 9: val_loss improved from 0.14339 to 0.08867, saving model to /content/gdrive/MyDrive/Example/model.h5\n",
            "8/8 [==============================] - 4s 480ms/step - loss: 0.2961 - accuracy: 0.9125 - val_loss: 0.0887 - val_accuracy: 0.9000 - lr: 0.0010\n",
            "Epoch 10/50\n",
            "8/8 [==============================] - ETA: 0s - loss: 0.2488 - accuracy: 0.9250\n",
            "Epoch 10: val_loss did not improve from 0.08867\n",
            "8/8 [==============================] - 3s 403ms/step - loss: 0.2488 - accuracy: 0.9250 - val_loss: 0.1372 - val_accuracy: 0.9667 - lr: 0.0010\n",
            "Epoch 11/50\n",
            "8/8 [==============================] - ETA: 0s - loss: 0.2167 - accuracy: 0.9250\n",
            "Epoch 11: val_loss did not improve from 0.08867\n",
            "8/8 [==============================] - 3s 403ms/step - loss: 0.2167 - accuracy: 0.9250 - val_loss: 0.2088 - val_accuracy: 0.9333 - lr: 0.0010\n",
            "Epoch 12/50\n",
            "8/8 [==============================] - ETA: 0s - loss: 0.1634 - accuracy: 0.9458\n",
            "Epoch 12: val_loss improved from 0.08867 to 0.06039, saving model to /content/gdrive/MyDrive/Example/model.h5\n",
            "8/8 [==============================] - 4s 520ms/step - loss: 0.1634 - accuracy: 0.9458 - val_loss: 0.0604 - val_accuracy: 0.9667 - lr: 0.0010\n",
            "Epoch 13/50\n",
            "8/8 [==============================] - ETA: 0s - loss: 0.0849 - accuracy: 0.9792\n",
            "Epoch 13: val_loss improved from 0.06039 to 0.05406, saving model to /content/gdrive/MyDrive/Example/model.h5\n",
            "8/8 [==============================] - 4s 477ms/step - loss: 0.0849 - accuracy: 0.9792 - val_loss: 0.0541 - val_accuracy: 0.9667 - lr: 0.0010\n",
            "Epoch 14/50\n",
            "8/8 [==============================] - ETA: 0s - loss: 0.1216 - accuracy: 0.9542\n",
            "Epoch 14: val_loss did not improve from 0.05406\n",
            "8/8 [==============================] - 3s 405ms/step - loss: 0.1216 - accuracy: 0.9542 - val_loss: 0.0930 - val_accuracy: 0.9667 - lr: 0.0010\n",
            "Epoch 15/50\n",
            "8/8 [==============================] - ETA: 0s - loss: 0.0750 - accuracy: 0.9750\n",
            "Epoch 15: val_loss improved from 0.05406 to 0.04124, saving model to /content/gdrive/MyDrive/Example/model.h5\n",
            "8/8 [==============================] - 4s 514ms/step - loss: 0.0750 - accuracy: 0.9750 - val_loss: 0.0412 - val_accuracy: 0.9667 - lr: 0.0010\n",
            "Epoch 16/50\n",
            "8/8 [==============================] - ETA: 0s - loss: 0.0739 - accuracy: 0.9708\n",
            "Epoch 16: val_loss did not improve from 0.04124\n",
            "8/8 [==============================] - 3s 391ms/step - loss: 0.0739 - accuracy: 0.9708 - val_loss: 0.0413 - val_accuracy: 0.9667 - lr: 0.0010\n",
            "Epoch 17/50\n",
            "8/8 [==============================] - ETA: 0s - loss: 0.0730 - accuracy: 0.9792\n",
            "Epoch 17: val_loss did not improve from 0.04124\n",
            "8/8 [==============================] - 3s 404ms/step - loss: 0.0730 - accuracy: 0.9792 - val_loss: 0.0441 - val_accuracy: 0.9667 - lr: 0.0010\n",
            "Epoch 18/50\n",
            "8/8 [==============================] - ETA: 0s - loss: 0.2074 - accuracy: 0.9333\n",
            "Epoch 18: val_loss did not improve from 0.04124\n",
            "8/8 [==============================] - 3s 406ms/step - loss: 0.2074 - accuracy: 0.9333 - val_loss: 0.0484 - val_accuracy: 1.0000 - lr: 0.0010\n",
            "Epoch 19/50\n",
            "8/8 [==============================] - ETA: 0s - loss: 0.1947 - accuracy: 0.9500\n",
            "Epoch 19: val_loss did not improve from 0.04124\n",
            "8/8 [==============================] - 4s 438ms/step - loss: 0.1947 - accuracy: 0.9500 - val_loss: 0.0513 - val_accuracy: 1.0000 - lr: 0.0010\n",
            "Epoch 20/50\n",
            "8/8 [==============================] - ETA: 0s - loss: 0.1439 - accuracy: 0.9375\n",
            "Epoch 20: val_loss improved from 0.04124 to 0.01579, saving model to /content/gdrive/MyDrive/Example/model.h5\n",
            "8/8 [==============================] - 5s 645ms/step - loss: 0.1439 - accuracy: 0.9375 - val_loss: 0.0158 - val_accuracy: 1.0000 - lr: 0.0010\n",
            "Epoch 21/50\n",
            "8/8 [==============================] - ETA: 0s - loss: 0.0924 - accuracy: 0.9667\n",
            "Epoch 21: val_loss did not improve from 0.01579\n",
            "8/8 [==============================] - 3s 405ms/step - loss: 0.0924 - accuracy: 0.9667 - val_loss: 0.0518 - val_accuracy: 0.9667 - lr: 0.0010\n",
            "Epoch 22/50\n",
            "8/8 [==============================] - ETA: 0s - loss: 0.0639 - accuracy: 0.9750\n",
            "Epoch 22: val_loss did not improve from 0.01579\n",
            "8/8 [==============================] - 3s 410ms/step - loss: 0.0639 - accuracy: 0.9750 - val_loss: 0.0295 - val_accuracy: 1.0000 - lr: 0.0010\n",
            "Epoch 23/50\n",
            "8/8 [==============================] - ETA: 0s - loss: 0.0740 - accuracy: 0.9750\n",
            "Epoch 23: val_loss did not improve from 0.01579\n",
            "8/8 [==============================] - 3s 408ms/step - loss: 0.0740 - accuracy: 0.9750 - val_loss: 0.0515 - val_accuracy: 0.9667 - lr: 0.0010\n",
            "Epoch 24/50\n",
            "8/8 [==============================] - ETA: 0s - loss: 0.0556 - accuracy: 0.9750\n",
            "Epoch 24: val_loss improved from 0.01579 to 0.00712, saving model to /content/gdrive/MyDrive/Example/model.h5\n",
            "8/8 [==============================] - 5s 556ms/step - loss: 0.0556 - accuracy: 0.9750 - val_loss: 0.0071 - val_accuracy: 1.0000 - lr: 0.0010\n",
            "Epoch 25/50\n",
            "8/8 [==============================] - ETA: 0s - loss: 0.0273 - accuracy: 0.9917\n",
            "Epoch 25: val_loss did not improve from 0.00712\n",
            "8/8 [==============================] - 4s 456ms/step - loss: 0.0273 - accuracy: 0.9917 - val_loss: 0.1096 - val_accuracy: 0.9667 - lr: 0.0010\n",
            "Epoch 26/50\n",
            "8/8 [==============================] - ETA: 0s - loss: 0.0307 - accuracy: 0.9958\n",
            "Epoch 26: val_loss did not improve from 0.00712\n",
            "8/8 [==============================] - 3s 438ms/step - loss: 0.0307 - accuracy: 0.9958 - val_loss: 0.0265 - val_accuracy: 0.9667 - lr: 0.0010\n",
            "Epoch 27/50\n",
            "8/8 [==============================] - ETA: 0s - loss: 0.0383 - accuracy: 0.9792\n",
            "Epoch 27: val_loss did not improve from 0.00712\n",
            "8/8 [==============================] - 3s 422ms/step - loss: 0.0383 - accuracy: 0.9792 - val_loss: 0.0744 - val_accuracy: 0.9667 - lr: 0.0010\n",
            "Epoch 28/50\n",
            "8/8 [==============================] - ETA: 0s - loss: 0.0362 - accuracy: 0.9875\n",
            "Epoch 28: val_loss did not improve from 0.00712\n",
            "8/8 [==============================] - 4s 430ms/step - loss: 0.0362 - accuracy: 0.9875 - val_loss: 0.0111 - val_accuracy: 1.0000 - lr: 0.0010\n",
            "Epoch 29/50\n",
            "8/8 [==============================] - ETA: 0s - loss: 0.0334 - accuracy: 0.9917\n",
            "Epoch 29: val_loss improved from 0.00712 to 0.00275, saving model to /content/gdrive/MyDrive/Example/model.h5\n",
            "8/8 [==============================] - 5s 646ms/step - loss: 0.0334 - accuracy: 0.9917 - val_loss: 0.0028 - val_accuracy: 1.0000 - lr: 0.0010\n",
            "Epoch 30/50\n",
            "8/8 [==============================] - ETA: 0s - loss: 0.0104 - accuracy: 0.9917\n",
            "Epoch 30: val_loss did not improve from 0.00275\n",
            "8/8 [==============================] - 3s 400ms/step - loss: 0.0104 - accuracy: 0.9917 - val_loss: 0.2437 - val_accuracy: 0.9333 - lr: 0.0010\n",
            "Epoch 31/50\n",
            "8/8 [==============================] - ETA: 0s - loss: 0.1353 - accuracy: 0.9750\n",
            "Epoch 31: val_loss did not improve from 0.00275\n",
            "8/8 [==============================] - 3s 409ms/step - loss: 0.1353 - accuracy: 0.9750 - val_loss: 0.2843 - val_accuracy: 0.9000 - lr: 0.0010\n",
            "Epoch 32/50\n",
            "8/8 [==============================] - ETA: 0s - loss: 0.1496 - accuracy: 0.9625\n",
            "Epoch 32: val_loss did not improve from 0.00275\n",
            "8/8 [==============================] - 4s 435ms/step - loss: 0.1496 - accuracy: 0.9625 - val_loss: 0.3206 - val_accuracy: 0.9667 - lr: 0.0010\n",
            "Epoch 33/50\n",
            "8/8 [==============================] - ETA: 0s - loss: 0.1818 - accuracy: 0.9417\n",
            "Epoch 33: val_loss did not improve from 0.00275\n",
            "8/8 [==============================] - 3s 443ms/step - loss: 0.1818 - accuracy: 0.9417 - val_loss: 0.1648 - val_accuracy: 0.9667 - lr: 0.0010\n",
            "Epoch 34/50\n",
            "8/8 [==============================] - ETA: 0s - loss: 0.0767 - accuracy: 0.9792\n",
            "Epoch 34: val_loss improved from 0.00275 to 0.00270, saving model to /content/gdrive/MyDrive/Example/model.h5\n",
            "\n",
            "Epoch 34: ReduceLROnPlateau reducing learning rate to 0.00020000000949949026.\n",
            "8/8 [==============================] - 5s 650ms/step - loss: 0.0767 - accuracy: 0.9792 - val_loss: 0.0027 - val_accuracy: 1.0000 - lr: 0.0010\n",
            "Epoch 35/50\n",
            "8/8 [==============================] - ETA: 0s - loss: 0.1011 - accuracy: 0.9833\n",
            "Epoch 35: val_loss did not improve from 0.00270\n",
            "8/8 [==============================] - 3s 396ms/step - loss: 0.1011 - accuracy: 0.9833 - val_loss: 0.0112 - val_accuracy: 1.0000 - lr: 2.0000e-04\n",
            "Epoch 36/50\n",
            "8/8 [==============================] - ETA: 0s - loss: 0.0789 - accuracy: 0.9708\n",
            "Epoch 36: val_loss did not improve from 0.00270\n",
            "8/8 [==============================] - 3s 410ms/step - loss: 0.0789 - accuracy: 0.9708 - val_loss: 0.0072 - val_accuracy: 1.0000 - lr: 2.0000e-04\n",
            "Epoch 37/50\n",
            "8/8 [==============================] - ETA: 0s - loss: 0.0364 - accuracy: 0.9833\n",
            "Epoch 37: val_loss improved from 0.00270 to 0.00063, saving model to /content/gdrive/MyDrive/Example/model.h5\n",
            "8/8 [==============================] - 4s 487ms/step - loss: 0.0364 - accuracy: 0.9833 - val_loss: 6.2981e-04 - val_accuracy: 1.0000 - lr: 2.0000e-04\n",
            "Epoch 38/50\n",
            "8/8 [==============================] - ETA: 0s - loss: 0.0332 - accuracy: 0.9917\n",
            "Epoch 38: val_loss improved from 0.00063 to 0.00036, saving model to /content/gdrive/MyDrive/Example/model.h5\n",
            "8/8 [==============================] - 4s 487ms/step - loss: 0.0332 - accuracy: 0.9917 - val_loss: 3.6142e-04 - val_accuracy: 1.0000 - lr: 2.0000e-04\n",
            "Epoch 39/50\n",
            "8/8 [==============================] - ETA: 0s - loss: 0.0103 - accuracy: 1.0000\n",
            "Epoch 39: val_loss did not improve from 0.00036\n",
            "8/8 [==============================] - 3s 411ms/step - loss: 0.0103 - accuracy: 1.0000 - val_loss: 3.7428e-04 - val_accuracy: 1.0000 - lr: 2.0000e-04\n",
            "Epoch 40/50\n",
            "8/8 [==============================] - ETA: 0s - loss: 0.0114 - accuracy: 1.0000\n",
            "Epoch 40: val_loss did not improve from 0.00036\n",
            "8/8 [==============================] - 3s 413ms/step - loss: 0.0114 - accuracy: 1.0000 - val_loss: 3.7634e-04 - val_accuracy: 1.0000 - lr: 2.0000e-04\n",
            "Epoch 41/50\n",
            "8/8 [==============================] - ETA: 0s - loss: 0.0159 - accuracy: 0.9958\n",
            "Epoch 41: val_loss did not improve from 0.00036\n",
            "8/8 [==============================] - 4s 433ms/step - loss: 0.0159 - accuracy: 0.9958 - val_loss: 3.8116e-04 - val_accuracy: 1.0000 - lr: 2.0000e-04\n",
            "Epoch 42/50\n",
            "8/8 [==============================] - ETA: 0s - loss: 0.0096 - accuracy: 1.0000\n",
            "Epoch 42: val_loss did not improve from 0.00036\n",
            "8/8 [==============================] - 4s 448ms/step - loss: 0.0096 - accuracy: 1.0000 - val_loss: 8.3043e-04 - val_accuracy: 1.0000 - lr: 2.0000e-04\n",
            "Epoch 43/50\n",
            "8/8 [==============================] - ETA: 0s - loss: 0.0334 - accuracy: 0.9917\n",
            "Epoch 43: val_loss improved from 0.00036 to 0.00032, saving model to /content/gdrive/MyDrive/Example/model.h5\n",
            "\n",
            "Epoch 43: ReduceLROnPlateau reducing learning rate to 4.0000001899898055e-05.\n",
            "8/8 [==============================] - 5s 661ms/step - loss: 0.0334 - accuracy: 0.9917 - val_loss: 3.2317e-04 - val_accuracy: 1.0000 - lr: 2.0000e-04\n",
            "Epoch 44/50\n",
            "8/8 [==============================] - ETA: 0s - loss: 0.0126 - accuracy: 1.0000\n",
            "Epoch 44: val_loss improved from 0.00032 to 0.00027, saving model to /content/gdrive/MyDrive/Example/model.h5\n",
            "8/8 [==============================] - 4s 479ms/step - loss: 0.0126 - accuracy: 1.0000 - val_loss: 2.6726e-04 - val_accuracy: 1.0000 - lr: 4.0000e-05\n",
            "Epoch 45/50\n",
            "8/8 [==============================] - ETA: 0s - loss: 0.0095 - accuracy: 0.9958\n",
            "Epoch 45: val_loss improved from 0.00027 to 0.00026, saving model to /content/gdrive/MyDrive/Example/model.h5\n",
            "8/8 [==============================] - 4s 520ms/step - loss: 0.0095 - accuracy: 0.9958 - val_loss: 2.6267e-04 - val_accuracy: 1.0000 - lr: 4.0000e-05\n",
            "Epoch 46/50\n",
            "8/8 [==============================] - ETA: 0s - loss: 0.0086 - accuracy: 1.0000\n",
            "Epoch 46: val_loss improved from 0.00026 to 0.00025, saving model to /content/gdrive/MyDrive/Example/model.h5\n",
            "8/8 [==============================] - 4s 484ms/step - loss: 0.0086 - accuracy: 1.0000 - val_loss: 2.5055e-04 - val_accuracy: 1.0000 - lr: 4.0000e-05\n",
            "Epoch 47/50\n",
            "8/8 [==============================] - ETA: 0s - loss: 0.0036 - accuracy: 1.0000\n",
            "Epoch 47: val_loss improved from 0.00025 to 0.00024, saving model to /content/gdrive/MyDrive/Example/model.h5\n",
            "8/8 [==============================] - 4s 491ms/step - loss: 0.0036 - accuracy: 1.0000 - val_loss: 2.3655e-04 - val_accuracy: 1.0000 - lr: 4.0000e-05\n",
            "Epoch 48/50\n",
            "8/8 [==============================] - ETA: 0s - loss: 0.0071 - accuracy: 1.0000\n",
            "Epoch 48: val_loss improved from 0.00024 to 0.00022, saving model to /content/gdrive/MyDrive/Example/model.h5\n",
            "8/8 [==============================] - 4s 483ms/step - loss: 0.0071 - accuracy: 1.0000 - val_loss: 2.2432e-04 - val_accuracy: 1.0000 - lr: 4.0000e-05\n",
            "Epoch 49/50\n",
            "8/8 [==============================] - ETA: 0s - loss: 0.0060 - accuracy: 1.0000\n",
            "Epoch 49: val_loss improved from 0.00022 to 0.00022, saving model to /content/gdrive/MyDrive/Example/model.h5\n",
            "8/8 [==============================] - 4s 488ms/step - loss: 0.0060 - accuracy: 1.0000 - val_loss: 2.2201e-04 - val_accuracy: 1.0000 - lr: 4.0000e-05\n",
            "Epoch 50/50\n",
            "8/8 [==============================] - ETA: 0s - loss: 0.0054 - accuracy: 1.0000\n",
            "Epoch 50: val_loss improved from 0.00022 to 0.00022, saving model to /content/gdrive/MyDrive/Example/model.h5\n",
            "8/8 [==============================] - 4s 480ms/step - loss: 0.0054 - accuracy: 1.0000 - val_loss: 2.1522e-04 - val_accuracy: 1.0000 - lr: 4.0000e-05\n"
          ]
        }
      ]
    },
    {
      "cell_type": "code",
      "source": [
        "# testing\n",
        "score = model.evaluate(test_set, verbose=0)\n",
        "print(f'Test loss: {score[0]:.4f}')\n",
        "print(f'Test accuracy: {score[1]:.4f}')"
      ],
      "metadata": {
        "colab": {
          "base_uri": "https://localhost:8080/"
        },
        "id": "vTZKpF8ub2cr",
        "outputId": "c7a9404e-3c4a-4665-c7be-f99da5a87baa"
      },
      "execution_count": 9,
      "outputs": [
        {
          "output_type": "stream",
          "name": "stdout",
          "text": [
            "Test loss: 0.0016\n",
            "Test accuracy: 1.0000\n"
          ]
        }
      ]
    },
    {
      "cell_type": "markdown",
      "source": [
        "### Learning Curves"
      ],
      "metadata": {
        "id": "-4dFykUOSSSm"
      }
    },
    {
      "cell_type": "code",
      "source": [
        "plt.figure(figsize=(6,4))\n",
        "plt.plot(history.history['loss'], label='train loss')\n",
        "plt.plot(history.history['val_loss'], label='val loss')\n",
        "plt.xlabel('Epoch')\n",
        "plt.ylabel('Loss')\n",
        "plt.legend()\n",
        "plt.show()\n",
        "#fig.savefig(root_path + 'loss curve', dpi=3000)"
      ],
      "metadata": {
        "execution": {
          "iopub.status.busy": "2022-09-27T15:03:48.151788Z",
          "iopub.execute_input": "2022-09-27T15:03:48.152711Z",
          "iopub.status.idle": "2022-09-27T15:03:48.378406Z",
          "shell.execute_reply.started": "2022-09-27T15:03:48.152672Z",
          "shell.execute_reply": "2022-09-27T15:03:48.377525Z"
        },
        "trusted": true,
        "colab": {
          "base_uri": "https://localhost:8080/",
          "height": 279
        },
        "id": "74ZmBJVRSSSm",
        "outputId": "41586959-479a-4765-904a-e966202cd09f"
      },
      "execution_count": 10,
      "outputs": [
        {
          "output_type": "display_data",
          "data": {
            "text/plain": [
              "<Figure size 432x288 with 1 Axes>"
            ],
            "image/png": "[encoded data removed]"
          },
          "metadata": {
            "needs_background": "light"
          }
        }
      ]
    },
    {
      "cell_type": "code",
      "source": [
        "plt.figure(figsize=(6,4))\n",
        "plt.plot(history.history['accuracy'], label='train accuracy')\n",
        "plt.plot(history.history['val_accuracy'], label='val accuracy')\n",
        "plt.xlabel('Epoch')\n",
        "plt.ylabel('Accuracy')\n",
        "plt.legend()\n",
        "plt.show()\n",
        "#fig.savefig(root_path + 'accuracy curve', dpi=3000)"
      ],
      "metadata": {
        "execution": {
          "iopub.status.busy": "2022-09-27T15:03:59.032177Z",
          "iopub.execute_input": "2022-09-27T15:03:59.032520Z",
          "iopub.status.idle": "2022-09-27T15:03:59.249859Z",
          "shell.execute_reply.started": "2022-09-27T15:03:59.032491Z",
          "shell.execute_reply": "2022-09-27T15:03:59.248979Z"
        },
        "trusted": true,
        "colab": {
          "base_uri": "https://localhost:8080/",
          "height": 279
        },
        "id": "C1Lmk12DSSSm",
        "outputId": "b2aee4b7-aac2-420d-8ce1-65a2be15d5f5"
      },
      "execution_count": 11,
      "outputs": [
        {
          "output_type": "display_data",
          "data": {
            "text/plain": [
              "<Figure size 432x288 with 1 Axes>"
            ],
            "image/png": "[encoded data removed]"
          },
          "metadata": {
            "needs_background": "light"
          }
        }
      ]
    },
    {
      "cell_type": "markdown",
      "source": [
        "**Confusion matrix**"
      ],
      "metadata": {
        "id": "t4VWxOTCBVcy"
      }
    },
    {
      "cell_type": "code",
      "source": [
        "from sklearn.metrics import confusion_matrix\n",
        "import itertools\n",
        "\n",
        "Y_pred = model.predict(test_set, verbose=1)\n",
        "\n",
        "def plot_confusion_matrix(cm, classes,\n",
        "                          normalize=False,\n",
        "                          title='Confusion matrix',\n",
        "                          cmap=plt.cm.Blues):\n",
        "    \"\"\"\n",
        "    This function prints and plots the confusion matrix.\n",
        "    Normalization can be applied by setting `normalize=True`.\n",
        "    \"\"\"\n",
        "    if normalize:\n",
        "        cm = cm.astype('float') / cm.sum(axis=1, keepdims = True)\n",
        "\n",
        "    plt.figure(figsize=(5, 5))\n",
        "    plt.imshow(cm, interpolation='nearest', cmap=cmap)\n",
        "    plt.title(title)\n",
        "    plt.colorbar()\n",
        "    tick_marks = np.arange(len(classes))\n",
        "    plt.xticks(tick_marks, classes, rotation=45)\n",
        "    plt.yticks(tick_marks, classes)\n",
        "\n",
        "    fmt = '.2f' if normalize else 'd'\n",
        "    thresh = cm.max() / 2.\n",
        "    for i, j in itertools.product(range(cm.shape[0]), range(cm.shape[1])):\n",
        "        plt.text(j, i, format(cm[i, j], fmt),\n",
        "                horizontalalignment=\"center\",\n",
        "                color=\"white\" if cm[i, j] > thresh else \"black\")\n",
        "\n",
        "    plt.tight_layout()\n",
        "    plt.ylabel('True label')\n",
        "    plt.xlabel('Predicted label')\n",
        "\n",
        "cm = confusion_matrix(y_true = test_set.classes, y_pred = np.argmax(Y_pred, axis = -1))\n",
        "class_names = ['circle', 'square', 'triangle']\n",
        "      \n",
        "# Plot non-normalized confusion matrix\n",
        "plt.figure()\n",
        "plot_confusion_matrix(cm, classes=class_names,\n",
        "                      title='Confusion matrix, without normalization')\n",
        "plt.show()\n",
        "\n",
        "# Plot normalized confusion matrix\n",
        "plt.figure()\n",
        "plot_confusion_matrix(cm, classes=class_names, normalize=True,\n",
        "                      title='Normalized confusion matrix')\n",
        "plt.show()"
      ],
      "metadata": {
        "colab": {
          "base_uri": "https://localhost:8080/",
          "height": 767
        },
        "id": "54N8o3pyA8bo",
        "outputId": "e21f978a-bf25-4a68-ed6a-d70588381602"
      },
      "execution_count": 12,
      "outputs": [
        {
          "output_type": "stream",
          "name": "stdout",
          "text": [
            "1/1 [==============================] - 0s 236ms/step\n"
          ]
        },
        {
          "output_type": "display_data",
          "data": {
            "text/plain": [
              "<Figure size 432x288 with 0 Axes>"
            ]
          },
          "metadata": {}
        },
        {
          "output_type": "display_data",
          "data": {
            "text/plain": [
              "<Figure size 360x360 with 2 Axes>"
            ],
            "image/png": "[encoded data removed]"
          },
          "metadata": {
            "needs_background": "light"
          }
        },
        {
          "output_type": "display_data",
          "data": {
            "text/plain": [
              "<Figure size 432x288 with 0 Axes>"
            ]
          },
          "metadata": {}
        },
        {
          "output_type": "display_data",
          "data": {
            "text/plain": [
              "<Figure size 360x360 with 2 Axes>"
            ],
            "image/png": "[encoded data removed]"
          },
          "metadata": {
            "needs_background": "light"
          }
        }
      ]
    },
    {
      "cell_type": "markdown",
      "source": [
        "**ROC curve**"
      ],
      "metadata": {
        "id": "RJs4n0NzCQaK"
      }
    },
    {
      "cell_type": "code",
      "source": [
        "from sklearn.preprocessing import label_binarize\n",
        "from sklearn.metrics import roc_curve, auc\n",
        "from itertools import cycle\n",
        "\n",
        "true_classes = test_set.classes\n",
        "y_true1 = label_binarize(true_classes,classes=[0,1,2])    \n",
        "predictions = model.predict(test_set, verbose=1)\n",
        "\n",
        "fpr = dict()\n",
        "tpr = dict()\n",
        "roc_auc = dict()\n",
        "thresholds = dict()\n",
        "n_classes = y_true1.shape[1]\n",
        "for k in range(n_classes):\n",
        "    fpr[k], tpr[k], thresholds[k] = roc_curve(y_true1[:,k], predictions[:,k], drop_intermediate=False)\n",
        "    roc_auc[k] = auc(fpr[k], tpr[k])\n",
        "    \n",
        "# Compute micro-average ROC curve and ROC area\n",
        "fpr[\"micro\"], tpr[\"micro\"], _ = roc_curve(y_true1.ravel(), predictions.ravel())\n",
        "roc_auc[\"micro\"] = auc(fpr[\"micro\"], tpr[\"micro\"])\n",
        "   \n",
        "all_fpr = np.unique(np.concatenate([fpr[k] for k in range(n_classes)]))\n",
        "    \n",
        "mean_tpr = np.zeros_like(all_fpr)\n",
        "for k in range(n_classes):\n",
        "    mean_tpr += np.interp(all_fpr, fpr[k], tpr[k])\n",
        "    \n",
        "# Finally average it and compute AUC\n",
        "mean_tpr /= n_classes\n",
        "\n",
        "fpr[\"macro\"] = all_fpr\n",
        "tpr[\"macro\"] = mean_tpr\n",
        "roc_auc[\"macro\"] = auc(fpr[\"macro\"], tpr[\"macro\"])\n",
        "\n",
        "# Plot all ROC curves\n",
        "lw = 2\n",
        "fig, axes = plt.subplots(1, 1, figsize=(7, 5))\n",
        "plt.plot(fpr[\"micro\"], tpr[\"micro\"],\n",
        "          label='micro-average ROC curve (area = {0:0.2f})'\n",
        "                ''.format(roc_auc[\"micro\"]),\n",
        "          color='deeppink', linestyle=':', linewidth=4)\n",
        "\n",
        "plt.plot(fpr[\"macro\"], tpr[\"macro\"],\n",
        "          label='macro-average ROC curve (area = {0:0.2f})'\n",
        "                ''.format(roc_auc[\"macro\"]),\n",
        "          color='navy', linestyle=':', linewidth=4)\n",
        "\n",
        "colors = cycle(['aqua', 'darkorange', 'cornflowerblue'])\n",
        "for k, color in zip(range(n_classes), colors):\n",
        "    plt.plot(fpr[k], tpr[k], color=color, lw=lw,\n",
        "              label='ROC curve of class {0} (area = {1:0.2f})'\n",
        "              ''.format(k, roc_auc[k]))\n",
        "\n",
        "plt.plot([0, 1], [0, 1], 'k--', lw=lw)\n",
        "plt.xlim([-0.05, 1.05])\n",
        "plt.ylim([-0.05, 1.05])\n",
        "plt.xlabel('False Positive Rate')\n",
        "plt.ylabel('True Positive Rate')\n",
        "plt.title('Some extension of Receiver operating characteristic to multi-class')\n",
        "plt.legend(loc=\"lower right\")\n",
        "plt.show()"
      ],
      "metadata": {
        "colab": {
          "base_uri": "https://localhost:8080/",
          "height": 367
        },
        "id": "noTprm58CRxZ",
        "outputId": "e3974369-c847-4047-c8f3-97bce79bf0d1"
      },
      "execution_count": 13,
      "outputs": [
        {
          "output_type": "stream",
          "name": "stdout",
          "text": [
            "1/1 [==============================] - 0s 109ms/step\n"
          ]
        },
        {
          "output_type": "display_data",
          "data": {
            "text/plain": [
              "<Figure size 504x360 with 1 Axes>"
            ],
            "image/png": "[encoded data removed]"
          },
          "metadata": {
            "needs_background": "light"
          }
        }
      ]
    },
    {
      "cell_type": "markdown",
      "source": [
        "### Model Evalutation"
      ],
      "metadata": {
        "id": "Kc28dwGySSSm"
      }
    },
    {
      "cell_type": "code",
      "source": [
        "from sklearn.metrics import classification_report"
      ],
      "metadata": {
        "execution": {
          "iopub.status.busy": "2022-09-27T15:04:08.773235Z",
          "iopub.execute_input": "2022-09-27T15:04:08.773583Z",
          "iopub.status.idle": "2022-09-27T15:04:08.778740Z",
          "shell.execute_reply.started": "2022-09-27T15:04:08.773552Z",
          "shell.execute_reply": "2022-09-27T15:04:08.777636Z"
        },
        "trusted": true,
        "id": "VhRDOsYeSSSn"
      },
      "execution_count": 14,
      "outputs": []
    },
    {
      "cell_type": "code",
      "source": [
        "y_test = test_set.classes\n",
        "y_pred = model.predict(test_set)\n",
        "y_pred = np.argmax(y_pred,axis=1)"
      ],
      "metadata": {
        "execution": {
          "iopub.status.busy": "2022-09-27T15:04:11.750285Z",
          "iopub.execute_input": "2022-09-27T15:04:11.750637Z",
          "iopub.status.idle": "2022-09-27T15:05:00.637300Z",
          "shell.execute_reply.started": "2022-09-27T15:04:11.750600Z",
          "shell.execute_reply": "2022-09-27T15:05:00.636318Z"
        },
        "trusted": true,
        "id": "mL4l79ACSSSn",
        "colab": {
          "base_uri": "https://localhost:8080/"
        },
        "outputId": "33a61347-8f15-49b6-9a0e-bcbcbc7578fa"
      },
      "execution_count": 15,
      "outputs": [
        {
          "output_type": "stream",
          "name": "stdout",
          "text": [
            "1/1 [==============================] - 0s 91ms/step\n"
          ]
        }
      ]
    },
    {
      "cell_type": "code",
      "source": [
        "print(classification_report(y_test,y_pred))"
      ],
      "metadata": {
        "execution": {
          "iopub.status.busy": "2022-09-27T15:05:08.214808Z",
          "iopub.execute_input": "2022-09-27T15:05:08.215871Z",
          "iopub.status.idle": "2022-09-27T15:05:08.230043Z",
          "shell.execute_reply.started": "2022-09-27T15:05:08.215826Z",
          "shell.execute_reply": "2022-09-27T15:05:08.228992Z"
        },
        "trusted": true,
        "colab": {
          "base_uri": "https://localhost:8080/"
        },
        "id": "RHJogQ3FSSSn",
        "outputId": "8f00aedc-cce1-4f80-aff4-145d212feb46"
      },
      "execution_count": 16,
      "outputs": [
        {
          "output_type": "stream",
          "name": "stdout",
          "text": [
            "              precision    recall  f1-score   support\n",
            "\n",
            "           0       1.00      1.00      1.00        10\n",
            "           1       1.00      1.00      1.00        10\n",
            "           2       1.00      1.00      1.00        10\n",
            "\n",
            "    accuracy                           1.00        30\n",
            "   macro avg       1.00      1.00      1.00        30\n",
            "weighted avg       1.00      1.00      1.00        30\n",
            "\n"
          ]
        }
      ]
    }
  ]
}
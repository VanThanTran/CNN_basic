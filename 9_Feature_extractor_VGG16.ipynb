{
  "cells": [
    {
      "cell_type": "code",
      "execution_count": 1,
      "metadata": {
        "colab": {
          "base_uri": "https://localhost:8080/"
        },
        "id": "FyCz0iFB0SjH",
        "outputId": "93d97c1b-8b2c-4856-848e-00dd8d8ca59e"
      },
      "outputs": [
        {
          "output_type": "stream",
          "name": "stdout",
          "text": [
            "Mounted at /content/gdrive\n"
          ]
        }
      ],
      "source": [
        "from google.colab import drive\n",
        "drive.mount('/content/gdrive')"
      ]
    },
    {
      "cell_type": "code",
      "execution_count": 2,
      "metadata": {
        "colab": {
          "base_uri": "https://localhost:8080/"
        },
        "id": "ZRapTj3ohzUB",
        "outputId": "8407b817-6c94-4eac-9a82-01f7d6cd4e64"
      },
      "outputs": [
        {
          "output_type": "stream",
          "name": "stdout",
          "text": [
            "/content/gdrive/MyDrive/Example\n",
            "10_Fine_tuning_VGG16.ipynb     6_Cifar10_VGG16.ipynb\n",
            "1_MLP_Fashion_MNIST.ipynb      7_Custom_dataset_VGG16.ipynb\n",
            "2_MLP_Cifar10.ipynb\t       8_Chest_Xray.ipynb\n",
            "3_Classification_Models.ipynb  9_Feature_extractor_VGG16.ipynb\n",
            "4_LeNet.ipynb\t\t       chest_xray.zip\n",
            "5_VGG16.ipynb\t\t       Dataset\n"
          ]
        }
      ],
      "source": [
        "%cd '/content/gdrive/MyDrive/Example'\n",
        "! ls"
      ]
    },
    {
      "cell_type": "code",
      "execution_count": 3,
      "metadata": {
        "id": "hO8Jknle1FMT"
      },
      "outputs": [],
      "source": [
        "# import the basic libraries\n",
        "import numpy as np\n",
        "import tensorflow as tf \n",
        "from tensorflow import keras\n",
        "import matplotlib.pyplot as plt\n",
        "from keras.models import Model, Sequential\n",
        "from keras.layers import Input, Dense, Activation, Flatten, Reshape, ReLU\n",
        "from keras.layers import Conv2D, MaxPooling2D, BatchNormalization, Dropout\n",
        "from keras.layers import GlobalAveragePooling2D, Concatenate, Lambda, add\n",
        "from keras.preprocessing import image\n",
        "from keras.preprocessing.image import ImageDataGenerator\n",
        "from tensorflow.keras import layers\n",
        "from glob import glob"
      ]
    },
    {
      "cell_type": "markdown",
      "metadata": {
        "id": "lF6uFcpH1hZh"
      },
      "source": [
        "**VGG16**"
      ]
    },
    {
      "cell_type": "code",
      "execution_count": 4,
      "metadata": {
        "id": "YK4KU-lO1j32"
      },
      "outputs": [],
      "source": [
        "from keras.applications.vgg16 import VGG16\n",
        "from keras.applications.vgg16 import preprocess_input\n",
        "\n",
        "# re-size all the images to this\n",
        "IMAGE_SIZE = [224, 224]\n",
        "\n",
        "train_path = '/content/gdrive/MyDrive/Example/Dataset/train'\n",
        "valid_path = '/content/gdrive/MyDrive/Example/Dataset/valid'\n",
        "test_path = '/content/gdrive/MyDrive/Example/Dataset/test'"
      ]
    },
    {
      "cell_type": "code",
      "execution_count": 5,
      "metadata": {
        "colab": {
          "base_uri": "https://localhost:8080/"
        },
        "id": "Zxxeeksz1nUo",
        "outputId": "31318712-8704-484a-cfc8-7f6a1ab48cad"
      },
      "outputs": [
        {
          "output_type": "stream",
          "name": "stdout",
          "text": [
            "Downloading data from https://storage.googleapis.com/tensorflow/keras-applications/vgg16/vgg16_weights_tf_dim_ordering_tf_kernels_notop.h5\n",
            "58889256/58889256 [==============================] - 0s 0us/step\n"
          ]
        }
      ],
      "source": [
        "# add preprocessing layer to the front of VGG16\n",
        "vgg16 = VGG16(input_shape=IMAGE_SIZE + [3], weights='imagenet', include_top=False)"
      ]
    },
    {
      "cell_type": "code",
      "execution_count": 6,
      "metadata": {
        "id": "gJOTIouK1pbM"
      },
      "outputs": [],
      "source": [
        "# don't train existing weights\n",
        "for layer in vgg16.layers:\n",
        "  layer.trainable = False"
      ]
    },
    {
      "cell_type": "code",
      "execution_count": 7,
      "metadata": {
        "id": "BEtL2jl31rHV"
      },
      "outputs": [],
      "source": [
        "# useful for getting number of classes\n",
        "folders = glob('/content/gdrive/MyDrive/Example/Dataset/train/*')"
      ]
    },
    {
      "cell_type": "code",
      "execution_count": 8,
      "metadata": {
        "id": "ICqnjY4V1taX"
      },
      "outputs": [],
      "source": [
        "# our layers - you can add more if you want\n",
        "x = Flatten()(vgg16.output)"
      ]
    },
    {
      "cell_type": "code",
      "execution_count": 9,
      "metadata": {
        "id": "UDapmQ7U1vbj"
      },
      "outputs": [],
      "source": [
        "#x = Dense(128, activation='relu')(x)\n",
        "prediction = Dense(len(folders), activation='softmax')(x)"
      ]
    },
    {
      "cell_type": "code",
      "execution_count": 10,
      "metadata": {
        "id": "Gj3iXOpB1xOF"
      },
      "outputs": [],
      "source": [
        "# create a model object\n",
        "model = Model(inputs=vgg16.input, outputs=prediction)"
      ]
    },
    {
      "cell_type": "code",
      "execution_count": 11,
      "metadata": {
        "id": "61OxtlUx1zHc",
        "colab": {
          "base_uri": "https://localhost:8080/"
        },
        "outputId": "8fd17567-f629-4a89-9bac-7ef5a631ba1d"
      },
      "outputs": [
        {
          "output_type": "stream",
          "name": "stdout",
          "text": [
            "Model: \"model\"\n",
            "_________________________________________________________________\n",
            " Layer (type)                Output Shape              Param #   \n",
            "=================================================================\n",
            " input_1 (InputLayer)        [(None, 224, 224, 3)]     0         \n",
            "                                                                 \n",
            " block1_conv1 (Conv2D)       (None, 224, 224, 64)      1792      \n",
            "                                                                 \n",
            " block1_conv2 (Conv2D)       (None, 224, 224, 64)      36928     \n",
            "                                                                 \n",
            " block1_pool (MaxPooling2D)  (None, 112, 112, 64)      0         \n",
            "                                                                 \n",
            " block2_conv1 (Conv2D)       (None, 112, 112, 128)     73856     \n",
            "                                                                 \n",
            " block2_conv2 (Conv2D)       (None, 112, 112, 128)     147584    \n",
            "                                                                 \n",
            " block2_pool (MaxPooling2D)  (None, 56, 56, 128)       0         \n",
            "                                                                 \n",
            " block3_conv1 (Conv2D)       (None, 56, 56, 256)       295168    \n",
            "                                                                 \n",
            " block3_conv2 (Conv2D)       (None, 56, 56, 256)       590080    \n",
            "                                                                 \n",
            " block3_conv3 (Conv2D)       (None, 56, 56, 256)       590080    \n",
            "                                                                 \n",
            " block3_pool (MaxPooling2D)  (None, 28, 28, 256)       0         \n",
            "                                                                 \n",
            " block4_conv1 (Conv2D)       (None, 28, 28, 512)       1180160   \n",
            "                                                                 \n",
            " block4_conv2 (Conv2D)       (None, 28, 28, 512)       2359808   \n",
            "                                                                 \n",
            " block4_conv3 (Conv2D)       (None, 28, 28, 512)       2359808   \n",
            "                                                                 \n",
            " block4_pool (MaxPooling2D)  (None, 14, 14, 512)       0         \n",
            "                                                                 \n",
            " block5_conv1 (Conv2D)       (None, 14, 14, 512)       2359808   \n",
            "                                                                 \n",
            " block5_conv2 (Conv2D)       (None, 14, 14, 512)       2359808   \n",
            "                                                                 \n",
            " block5_conv3 (Conv2D)       (None, 14, 14, 512)       2359808   \n",
            "                                                                 \n",
            " block5_pool (MaxPooling2D)  (None, 7, 7, 512)         0         \n",
            "                                                                 \n",
            " flatten (Flatten)           (None, 25088)             0         \n",
            "                                                                 \n",
            " dense (Dense)               (None, 3)                 75267     \n",
            "                                                                 \n",
            "=================================================================\n",
            "Total params: 14,789,955\n",
            "Trainable params: 75,267\n",
            "Non-trainable params: 14,714,688\n",
            "_________________________________________________________________\n"
          ]
        }
      ],
      "source": [
        "# view the structure of the model\n",
        "model.summary()"
      ]
    },
    {
      "cell_type": "code",
      "execution_count": 12,
      "metadata": {
        "id": "phx1GV_211Rv"
      },
      "outputs": [],
      "source": [
        "# tell the model what cost and optimization method to use\n",
        "model.compile(\n",
        "  loss='categorical_crossentropy',\n",
        "  optimizer='adam',\n",
        "  metrics=['accuracy']\n",
        ")"
      ]
    },
    {
      "cell_type": "code",
      "execution_count": 13,
      "metadata": {
        "colab": {
          "base_uri": "https://localhost:8080/"
        },
        "id": "oQSbJkLj13Ir",
        "outputId": "08e4e688-ffab-47c3-cf2a-52f7a430d81b"
      },
      "outputs": [
        {
          "output_type": "stream",
          "name": "stdout",
          "text": [
            "Found 240 images belonging to 3 classes.\n",
            "Found 30 images belonging to 3 classes.\n",
            "Found 30 images belonging to 3 classes.\n"
          ]
        }
      ],
      "source": [
        "# Add our data-augmentation parameters to ImageDataGenerator\n",
        "train_datagen = ImageDataGenerator(rescale = 1./255,\n",
        "                                   shear_range = 0.2,\n",
        "                                   zoom_range = 0.2,\n",
        "                                   horizontal_flip = True)\n",
        "valid_datagen = ImageDataGenerator(rescale = 1./255)\n",
        "test_datagen = ImageDataGenerator(rescale = 1./255)\n",
        "\n",
        "# Flow training images in batches of 32 using train_datagen generator\n",
        "training_set = train_datagen.flow_from_directory(train_path,\n",
        "                                                 target_size = (224, 224),\n",
        "                                                 batch_size = 32,\n",
        "                                                 class_mode = 'categorical')\n",
        "\n",
        "valid_set = valid_datagen.flow_from_directory(valid_path,\n",
        "                                              target_size = (224, 224),\n",
        "                                              batch_size = 32,\n",
        "                                              class_mode = 'categorical')\n",
        "\n",
        "test_set = test_datagen.flow_from_directory(test_path,\n",
        "                                            shuffle = False,\n",
        "                                            target_size = (224, 224),\n",
        "                                            batch_size = 32,\n",
        "                                            class_mode = 'categorical')"
      ]
    },
    {
      "cell_type": "code",
      "execution_count": 14,
      "metadata": {
        "colab": {
          "base_uri": "https://localhost:8080/"
        },
        "id": "D2L-jdZ615fX",
        "outputId": "19d4da69-a526-4531-dc99-3dcf2caa331c"
      },
      "outputs": [
        {
          "output_type": "stream",
          "name": "stdout",
          "text": [
            "Epoch 1/20\n",
            "8/8 [==============================] - 113s 14s/step - loss: 1.2709 - accuracy: 0.5292 - val_loss: 0.5837 - val_accuracy: 0.7000\n",
            "Epoch 2/20\n",
            "8/8 [==============================] - 4s 468ms/step - loss: 0.5493 - accuracy: 0.7458 - val_loss: 0.3306 - val_accuracy: 0.8333\n",
            "Epoch 3/20\n",
            "8/8 [==============================] - 4s 420ms/step - loss: 0.3599 - accuracy: 0.8500 - val_loss: 0.2414 - val_accuracy: 0.9000\n",
            "Epoch 4/20\n",
            "8/8 [==============================] - 4s 430ms/step - loss: 0.2069 - accuracy: 0.9167 - val_loss: 0.1400 - val_accuracy: 0.9667\n",
            "Epoch 5/20\n",
            "8/8 [==============================] - 3s 419ms/step - loss: 0.1463 - accuracy: 0.9625 - val_loss: 0.1237 - val_accuracy: 0.9667\n",
            "Epoch 6/20\n",
            "8/8 [==============================] - 3s 420ms/step - loss: 0.1146 - accuracy: 0.9792 - val_loss: 0.1142 - val_accuracy: 0.9667\n",
            "Epoch 7/20\n",
            "8/8 [==============================] - 3s 406ms/step - loss: 0.1096 - accuracy: 0.9708 - val_loss: 0.1168 - val_accuracy: 0.9667\n",
            "Epoch 8/20\n",
            "8/8 [==============================] - 4s 432ms/step - loss: 0.0904 - accuracy: 0.9917 - val_loss: 0.1147 - val_accuracy: 0.9667\n",
            "Epoch 9/20\n",
            "8/8 [==============================] - 3s 416ms/step - loss: 0.0736 - accuracy: 0.9958 - val_loss: 0.1086 - val_accuracy: 0.9667\n",
            "Epoch 10/20\n",
            "8/8 [==============================] - 3s 424ms/step - loss: 0.0710 - accuracy: 0.9958 - val_loss: 0.1026 - val_accuracy: 1.0000\n",
            "Epoch 11/20\n",
            "8/8 [==============================] - 3s 415ms/step - loss: 0.0639 - accuracy: 0.9875 - val_loss: 0.1135 - val_accuracy: 0.9667\n",
            "Epoch 12/20\n",
            "8/8 [==============================] - 4s 491ms/step - loss: 0.0522 - accuracy: 1.0000 - val_loss: 0.0931 - val_accuracy: 0.9667\n",
            "Epoch 13/20\n",
            "8/8 [==============================] - 4s 427ms/step - loss: 0.0501 - accuracy: 0.9875 - val_loss: 0.0949 - val_accuracy: 0.9667\n",
            "Epoch 14/20\n",
            "8/8 [==============================] - 3s 419ms/step - loss: 0.0413 - accuracy: 0.9958 - val_loss: 0.0935 - val_accuracy: 0.9667\n",
            "Epoch 15/20\n",
            "8/8 [==============================] - 3s 421ms/step - loss: 0.0467 - accuracy: 0.9958 - val_loss: 0.0904 - val_accuracy: 0.9667\n",
            "Epoch 16/20\n",
            "8/8 [==============================] - 3s 421ms/step - loss: 0.0383 - accuracy: 1.0000 - val_loss: 0.0908 - val_accuracy: 0.9667\n",
            "Epoch 17/20\n",
            "8/8 [==============================] - 3s 419ms/step - loss: 0.0316 - accuracy: 1.0000 - val_loss: 0.0814 - val_accuracy: 0.9667\n",
            "Epoch 18/20\n",
            "8/8 [==============================] - 4s 424ms/step - loss: 0.0294 - accuracy: 1.0000 - val_loss: 0.0788 - val_accuracy: 0.9667\n",
            "Epoch 19/20\n",
            "8/8 [==============================] - 3s 417ms/step - loss: 0.0336 - accuracy: 1.0000 - val_loss: 0.0747 - val_accuracy: 1.0000\n",
            "Epoch 20/20\n",
            "8/8 [==============================] - 3s 418ms/step - loss: 0.0330 - accuracy: 0.9958 - val_loss: 0.0875 - val_accuracy: 0.9667\n"
          ]
        }
      ],
      "source": [
        "# fit the model\n",
        "vgg16 = model.fit(\n",
        "  training_set,\n",
        "  validation_data=valid_set,\n",
        "  epochs=20)"
      ]
    },
    {
      "cell_type": "code",
      "execution_count": 15,
      "metadata": {
        "id": "YUz7DvCPqFAy"
      },
      "outputs": [],
      "source": [
        "#model.save('vgg16.h5')"
      ]
    },
    {
      "cell_type": "code",
      "execution_count": 16,
      "metadata": {
        "colab": {
          "base_uri": "https://localhost:8080/"
        },
        "id": "h0CeLQ2j178x",
        "outputId": "0b6eebaa-cbb1-4faf-8e77-58884751257d"
      },
      "outputs": [
        {
          "output_type": "stream",
          "name": "stdout",
          "text": [
            "Test loss: 0.0685\n",
            "Test accuracy: 0.9667\n"
          ]
        }
      ],
      "source": [
        "# testing\n",
        "score = model.evaluate(test_set, verbose=0)\n",
        "print(f'Test loss: {score[0]:.4f}')\n",
        "print(f'Test accuracy: {score[1]:.4f}')"
      ]
    },
    {
      "cell_type": "code",
      "execution_count": 17,
      "metadata": {
        "colab": {
          "base_uri": "https://localhost:8080/",
          "height": 279
        },
        "id": "PUItwi1F1_L9",
        "outputId": "243825f6-b218-4225-d3b4-eaec05930079"
      },
      "outputs": [
        {
          "output_type": "display_data",
          "data": {
            "text/plain": [
              "<Figure size 432x288 with 1 Axes>"
            ],
            "image/png": "[encoded data removed]"
          },
          "metadata": {
            "needs_background": "light"
          }
        }
      ],
      "source": [
        "# loss\n",
        "fig, axes = plt.subplots(1, 1, figsize=(6, 4))\n",
        "plt.plot(vgg16.history['loss'], label='train loss')\n",
        "plt.plot(vgg16.history['val_loss'], label='val loss')\n",
        "plt.xlabel('Epoch')\n",
        "plt.ylabel('Loss')\n",
        "plt.legend()\n",
        "plt.show()\n",
        "#fig.savefig('loss_vgg16', dpi=3000)"
      ]
    },
    {
      "cell_type": "code",
      "execution_count": 18,
      "metadata": {
        "colab": {
          "base_uri": "https://localhost:8080/",
          "height": 279
        },
        "id": "U_hLZLZD2Az9",
        "outputId": "4e937439-50b9-4536-c662-de2a6287af0d"
      },
      "outputs": [
        {
          "output_type": "display_data",
          "data": {
            "text/plain": [
              "<Figure size 432x288 with 1 Axes>"
            ],
            "image/png": "[encoded data removed]"
          },
          "metadata": {
            "needs_background": "light"
          }
        }
      ],
      "source": [
        "# accuracy\n",
        "fig, axes = plt.subplots(1, 1, figsize=(6, 4))\n",
        "plt.plot(vgg16.history['accuracy'], label='train accuracy')\n",
        "plt.plot(vgg16.history['val_accuracy'], label='val accuracy')\n",
        "plt.xlabel('Epoch')\n",
        "plt.ylabel('Accuracy')\n",
        "plt.legend()\n",
        "plt.show()\n",
        "#fig.savefig('accuracy_vgg16', dpi=3000)"
      ]
    },
    {
      "cell_type": "markdown",
      "metadata": {
        "id": "NGO1COBxN3eW"
      },
      "source": [
        "**Confusion matrix:**"
      ]
    },
    {
      "cell_type": "code",
      "execution_count": 19,
      "metadata": {
        "id": "aAi3AJEkh33n"
      },
      "outputs": [],
      "source": [
        "#importing confusion matrix\n",
        "from sklearn.metrics import classification_report, confusion_matrix"
      ]
    },
    {
      "cell_type": "code",
      "execution_count": 20,
      "metadata": {
        "id": "uBorCBJggcyq"
      },
      "outputs": [],
      "source": [
        "Y_pred = model.predict(x=test_set, steps=len(test_set), verbose=0)"
      ]
    },
    {
      "cell_type": "code",
      "execution_count": 21,
      "metadata": {
        "colab": {
          "base_uri": "https://localhost:8080/",
          "height": 750
        },
        "id": "sRLM8E9hNTVo",
        "outputId": "2dc1050c-a16c-489f-fae5-d7f7db0648e4"
      },
      "outputs": [
        {
          "output_type": "display_data",
          "data": {
            "text/plain": [
              "<Figure size 432x288 with 0 Axes>"
            ]
          },
          "metadata": {}
        },
        {
          "output_type": "display_data",
          "data": {
            "text/plain": [
              "<Figure size 360x360 with 2 Axes>"
            ],
            "image/png": "[encoded data removed]"
          },
          "metadata": {
            "needs_background": "light"
          }
        },
        {
          "output_type": "display_data",
          "data": {
            "text/plain": [
              "<Figure size 432x288 with 0 Axes>"
            ]
          },
          "metadata": {}
        },
        {
          "output_type": "display_data",
          "data": {
            "text/plain": [
              "<Figure size 360x360 with 2 Axes>"
            ],
            "image/png": "[encoded data removed]"
          },
          "metadata": {
            "needs_background": "light"
          }
        }
      ],
      "source": [
        "import itertools\n",
        "def plot_confusion_matrix(cm, classes,\n",
        "                          normalize=False,\n",
        "                          title='Confusion matrix',\n",
        "                          cmap=plt.cm.Spectral):\n",
        "    \"\"\"\n",
        "    This function prints and plots the confusion matrix.\n",
        "    Normalization can be applied by setting `normalize=True`.\n",
        "    \"\"\"\n",
        "    if normalize:\n",
        "        cm = cm.astype('float') / cm.sum(axis=1, keepdims = True)\n",
        "\n",
        "    plt.figure(figsize=(5, 5))\n",
        "    plt.imshow(cm, interpolation='nearest', cmap=cmap)\n",
        "    plt.title(title)\n",
        "    plt.colorbar()\n",
        "    tick_marks = np.arange(len(classes))\n",
        "    plt.xticks(tick_marks, classes, rotation=45)\n",
        "    plt.yticks(tick_marks, classes)\n",
        "\n",
        "    fmt = '.2f' if normalize else 'd'\n",
        "    thresh = cm.max() / 2.\n",
        "    for i, j in itertools.product(range(cm.shape[0]), range(cm.shape[1])):\n",
        "        plt.text(j, i, format(cm[i, j], fmt),\n",
        "                 horizontalalignment=\"center\",\n",
        "                 color=\"white\" if cm[i, j] > thresh else \"black\")\n",
        "\n",
        "    plt.tight_layout()\n",
        "    plt.ylabel('True label')\n",
        "    plt.xlabel('Predicted label')\n",
        "\n",
        "cm = confusion_matrix(y_true = test_set.classes, y_pred = np.argmax(Y_pred, axis = -1))\n",
        "class_names = ['circle', 'square', 'triangle']\n",
        "\n",
        "# Plot non-normalized confusion matrix\n",
        "plt.figure()\n",
        "plot_confusion_matrix(cm, classes=class_names,\n",
        "                      title='Confusion matrix, without normalization')\n",
        "plt.show()\n",
        "\n",
        "# Plot normalized confusion matrix\n",
        "plt.figure()\n",
        "plot_confusion_matrix(cm, classes=class_names, normalize=True,\n",
        "                      title='Normalized confusion matrix')\n",
        "plt.show()"
      ]
    },
    {
      "cell_type": "code",
      "execution_count": 22,
      "metadata": {
        "colab": {
          "base_uri": "https://localhost:8080/"
        },
        "id": "Q9eMOHe41vOb",
        "outputId": "81dcf67c-2ee3-48ed-8c8c-fee218c85e1c"
      },
      "outputs": [
        {
          "output_type": "stream",
          "name": "stdout",
          "text": [
            "1/1 [==============================] - 0s 91ms/step\n",
            "Confusion Matrix\n",
            "\n",
            "[[ 9  0  1]\n",
            " [ 0 10  0]\n",
            " [ 0  0 10]]\n",
            "\n",
            "Classification Report\n",
            "\n",
            "              precision    recall  f1-score   support\n",
            "\n",
            "      circle       1.00      0.90      0.95        10\n",
            "      square       1.00      1.00      1.00        10\n",
            "    triangle       0.91      1.00      0.95        10\n",
            "\n",
            "    accuracy                           0.97        30\n",
            "   macro avg       0.97      0.97      0.97        30\n",
            "weighted avg       0.97      0.97      0.97        30\n",
            "\n"
          ]
        }
      ],
      "source": [
        "#Confution Matrix and Classification Report\n",
        "y_true = test_set.classes\n",
        "Y_pred = model.predict(test_set, len(test_set))\n",
        "y_pred = np.argmax(Y_pred, axis = 1)\n",
        "print('Confusion Matrix\\n')\n",
        "print(confusion_matrix(y_true, y_pred))\n",
        "print('\\nClassification Report\\n')\n",
        "target_names = ['circle', 'square', 'triangle']\n",
        "print(classification_report(test_set.classes, y_pred, target_names=target_names))"
      ]
    }
  ],
  "metadata": {
    "accelerator": "GPU",
    "colab": {
      "collapsed_sections": [],
      "provenance": []
    },
    "kernelspec": {
      "display_name": "Python 3",
      "name": "python3"
    }
  },
  "nbformat": 4,
  "nbformat_minor": 0
}